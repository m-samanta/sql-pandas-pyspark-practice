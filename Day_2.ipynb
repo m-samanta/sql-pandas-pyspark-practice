{
 "cells": [
  {
   "cell_type": "markdown",
   "metadata": {},
   "source": [
    "**Problem:**  \n",
    "You have a DataFrame `df` with the following data:\n",
    "\n",
    "| product_id | category | price  |\n",
    "|------------|----------|--------|\n",
    "| 1          | A        | 100.0  |\n",
    "| 2          | B        | NaN    |\n",
    "| 3          | A        | 150.0  |\n",
    "| 4          | C        | 200.0  |\n",
    "| 5          | B        | NaN    |\n",
    "\n",
    "**Task:** Fill the missing prices in the `price` column with the average price of their respective categories. If the category is not `A` or `B`, set the price to 0.\n"
   ]
  },
  {
   "cell_type": "code",
   "execution_count": 9,
   "metadata": {},
   "outputs": [
    {
     "name": "stdout",
     "output_type": "stream",
     "text": [
      "   product_id category  price\n",
      "0           1        A  100.0\n",
      "1           2        B    0.0\n",
      "2           3        A  150.0\n",
      "3           4        C  200.0\n",
      "4           5        B    0.0\n"
     ]
    }
   ],
   "source": [
    "import pandas as pd\n",
    "import numpy as np\n",
    "\n",
    "products = {\n",
    "    'product_id': [1, 2, 3, 4, 5],\n",
    "    'category': ['A', 'B', 'A', 'C', 'B'],\n",
    "    'price': [100.0, np.nan, 150.0, 200.0, np.nan]\n",
    "}\n",
    "\n",
    "df = pd.DataFrame(products)\n",
    "\n",
    "means_category = df.groupby('category')['price'].transform('mean')\n",
    "\n",
    "df['price'] = df['price'].fillna(df['category'].map(means_category))\n",
    "\n",
    "df['price'] = df['price'].fillna(0)\n",
    "\n",
    "print(df)"
   ]
  },
  {
   "cell_type": "markdown",
   "metadata": {},
   "source": [
    "**PySpark Problem:**\n",
    "\n",
    "**Problem:**  \n",
    "You have a PySpark DataFrame `df` with the following columns:\n",
    "\n",
    "| transaction_id | transaction_date | amount |\n",
    "|----------------|------------------|--------|\n",
    "| 1              | 2024-08-01       | 500    |\n",
    "| 2              | 2024-08-02       | 300    |\n",
    "| 3              | 2024-08-01       | 200    |\n",
    "| 4              | 2024-08-03       | 700    |\n",
    "\n",
    "**Task:** Calculate the total transaction amount for each day, and then find the day with the highest total transaction amount.\n"
   ]
  },
  {
   "cell_type": "code",
   "execution_count": null,
   "metadata": {},
   "outputs": [],
   "source": [
    "from pyspark.sql import SparkSession\n",
    "from pyspark.sql.functions import *\n",
    "\n",
    "spark = SparkSession.builder.appName(\"Day 2\").getOrCreate()\n",
    "\n",
    "transactions = [\n",
    "    (1, '2024-08-01', 500),\n",
    "    (2, '2024-08-02', 300),\n",
    "    (3, '2024-08-01', 200),\n",
    "    (4, '2024-08-03', 700)\n",
    "]\n",
    "\n",
    "columns = [\"transaction_id\", \"transaction_date\", \"amount\"]\n",
    "\n",
    "df = spark.createDataFrame(transactions, columns)\n",
    "\n",
    "df = df.withColumn(\"transaction_date\", col(\"transaction_date\").cast(DateType()))\n",
    "\n",
    "daily_totals = df.groupBy(\"transaction_date\").agg(sum(\"amount\").alias(\"total_amount\"))\n",
    "\n",
    "max_total_amount = daily_totals.agg(max(\"total_amount\")).collect()[0][0]\n",
    "\n",
    "print(max_total_amount)"
   ]
  }
 ],
 "metadata": {
  "kernelspec": {
   "display_name": "Python 3",
   "language": "python",
   "name": "python3"
  },
  "language_info": {
   "codemirror_mode": {
    "name": "ipython",
    "version": 3
   },
   "file_extension": ".py",
   "mimetype": "text/x-python",
   "name": "python",
   "nbconvert_exporter": "python",
   "pygments_lexer": "ipython3",
   "version": "3.11.9"
  }
 },
 "nbformat": 4,
 "nbformat_minor": 2
}
