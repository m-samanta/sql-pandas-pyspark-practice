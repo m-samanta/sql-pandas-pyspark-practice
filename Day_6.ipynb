{
 "cells": [
  {
   "cell_type": "markdown",
   "metadata": {},
   "source": [
    "**Problem:**  \n",
    "You have two DataFrames: `orders_df` and `returns_df`.\n",
    "\n",
    "`orders_df`:\n",
    "\n",
    "| order_id | customer_id | product | quantity |\n",
    "|----------|-------------|---------|----------|\n",
    "| 1        | 101         | Laptop  | 1        |\n",
    "| 2        | 102         | Phone   | 2        |\n",
    "| 3        | 103         | Tablet  | 1        |\n",
    "\n",
    "`returns_df`:\n",
    "\n",
    "| return_id | order_id | return_reason |\n",
    "|-----------|----------|----------------|\n",
    "| 1         | 2        | Defective      |\n",
    "| 2         | 3        | Wrong Item     |\n",
    "\n",
    "**Task:** Perform a left join between the `orders_df` and `returns_df` DataFrames to combine the data. For orders that have no corresponding return, fill the `return_reason` column with \"No Return\".\n"
   ]
  },
  {
   "cell_type": "code",
   "execution_count": null,
   "metadata": {},
   "outputs": [],
   "source": [
    "import pandas as pd\n",
    "\n",
    "orders_df = pd.DataFrame({\n",
    "    'order_id': [1, 2, 3],\n",
    "    'customer_id': [101, 102, 103],\n",
    "    'product': ['Laptop', 'Phone', 'Tablet'],\n",
    "    'quantity': [1, 2, 1]\n",
    "})\n",
    "\n",
    "returns_df = pd.DataFrame({\n",
    "    'return_id': [1, 2],\n",
    "    'order_id': [2, 3],\n",
    "    'return_reason': ['Defective', 'Wrong Item']\n",
    "})\n",
    "\n",
    "merged_df = pd.merge(orders_df, returns_df, on='order_id', how='left')\n",
    "merged_df['return_reason'].fillna('No Return', inplace=True)\n",
    "\n",
    "print(merged_df)\n"
   ]
  },
  {
   "cell_type": "markdown",
   "metadata": {},
   "source": [
    "**Problem:**  \n",
    "You have a PySpark DataFrame `df` with the following columns:\n",
    "\n",
    "| student_id | course      | score |\n",
    "|------------|-------------|-------|\n",
    "| 1          | Math        | 85    |\n",
    "| 2          | Science     | 90    |\n",
    "| 3          | Math        | 78    |\n",
    "| 4          | History     | 88    |\n",
    "| 2          | Science     | 90    |\n",
    "\n",
    "**Task:** \n",
    "1. Write a PySpark query to label each student's score as \"Pass\" if it's 80 or above and \"Fail\" if below 80.\n",
    "2. Find the distinct students who passed each course.\n"
   ]
  },
  {
   "cell_type": "code",
   "execution_count": null,
   "metadata": {},
   "outputs": [],
   "source": [
    "from pyspark.sql import SparkSession\n",
    "from pyspark.sql.functions import *\n",
    "from pyspark.sql import functions as F\n",
    "\n",
    "spark = SparkSession.builder.appName(\"StudentScores\").getOrCreate()\n",
    "\n",
    "data = [\n",
    "    (1, \"Math\", 85),\n",
    "    (2, \"Science\", 90),\n",
    "    (3, \"Math\", 78),\n",
    "    (4, \"History\", 88),\n",
    "    (2, \"Science\", 90)\n",
    "]\n",
    "\n",
    "columns = [\"student_id\", \"course\", \"score\"]\n",
    "\n",
    "df = spark.createDataFrame(data, columns)\n",
    "\n",
    "df_with_label = df.withColumn(\n",
    "    \"result\",\n",
    "    when(col(\"score\") >= 80, \"Pass\").otherwise(\"Fail\")\n",
    ")\n",
    "\n",
    "df_with_label.show()\n",
    "\n",
    "passed_students_df = df_with_label.filter(col(\"result\") == \"Pass\").select(\"student_id\", \"course\")\n",
    "\n",
    "distinct_passed_students = passed_students_df.dropDuplicates()\n",
    "\n",
    "distinct_passed_students.show()"
   ]
  }
 ],
 "metadata": {
  "language_info": {
   "name": "python"
  }
 },
 "nbformat": 4,
 "nbformat_minor": 2
}
