{
 "cells": [
  {
   "cell_type": "markdown",
   "metadata": {},
   "source": [
    "**Problem:**  \n",
    "You have a DataFrame `df` with the following data:\n",
    "\n",
    "| user_id | last_login          | subscription_end_date |\n",
    "|---------|---------------------|-----------------------|\n",
    "| 1       | 2024-08-10 10:00:00 | 2024-08-20            |\n",
    "| 2       | NaT                 | 2024-08-15            |\n",
    "| 3       | 2024-08-12 12:00:00 | NaT                   |\n",
    "\n",
    "**Task:** Calculate the number of days between the `last_login` and the `subscription_end_date` for each user. Fill in the missing values for both columns with appropriate default values (e.g., 0 days for differences).\n"
   ]
  },
  {
   "cell_type": "code",
   "execution_count": null,
   "metadata": {},
   "outputs": [],
   "source": [
    "import pandas as pd\n",
    "\n",
    "data = {\n",
    "    'user_id': [1, 2, 3],\n",
    "    'last_login': ['2024-08-10 10:00:00', pd.NaT, '2024-08-12 12:00:00'],\n",
    "    'subscription_end_date': ['2024-08-20', '2024-08-15', pd.NaT]\n",
    "}\n",
    "df = pd.DataFrame(data)\n",
    "\n",
    "df['last_login'] = pd.to_datetime(df['last_login'])\n",
    "df['subscription_end_date'] = pd.to_datetime(df['subscription_end_date'])\n",
    "\n",
    "df['last_login'] = df['last_login'].fillna(df['subscription_end_date'])\n",
    "df['subscription_end_date'] = df['subscription_end_date'].fillna(df['last_login'])\n",
    "\n",
    "df['days_difference'] = (df['subscription_end_date'] - df['last_login']).dt.days\n",
    "\n",
    "df['days_difference'] = df['days_difference'].fillna(0).astype(int)\n",
    "\n",
    "print(df)"
   ]
  },
  {
   "cell_type": "markdown",
   "metadata": {},
   "source": [
    "**Problem:**  \n",
    "You have a PySpark DataFrame `df` with the following columns:\n",
    "\n",
    "| student_id | course  | grade |\n",
    "|------------|---------|-------|\n",
    "| 1          | Math    | A     |\n",
    "| 2          | Science | B     |\n",
    "| 1          | Math    | A     |\n",
    "| 3          | History | C     |\n",
    "| 2          | Science | B     |\n",
    "\n",
    "**Task:** Write a PySpark query to count how many distinct students achieved each grade, and display a custom label for each grade (e.g., \"Excellent\" for A, \"Good\" for B, etc.).\n"
   ]
  },
  {
   "cell_type": "code",
   "execution_count": null,
   "metadata": {},
   "outputs": [],
   "source": [
    "from pyspark.sql import SparkSession\n",
    "from pyspark.sql.functions import *\n",
    "\n",
    "spark = SparkSession.builder.appName(\"Day_3\").getOrCreate()\n",
    "\n",
    "data = [\n",
    "    (1, \"Math\", \"A\"),\n",
    "    (2, \"Science\", \"B\"),\n",
    "    (1, \"Math\", \"A\"),\n",
    "    (3, \"History\", \"C\"),\n",
    "    (2, \"Science\", \"B\")\n",
    "]\n",
    "\n",
    "columns = [\"student_id\", \"course\", \"grade\"]\n",
    "\n",
    "df = spark.createDataFrame(data, columns)\n",
    "\n",
    "df_unique = df.dropDuplicates(['student_id', 'grade'])\n",
    "\n",
    "df_counts = df_unique.groupBy('grade').agg(countDistinct('student_id').alias('num_students'))\n",
    "\n",
    "df_labeled = df_counts.withColumn(\n",
    "    'grade_label',\n",
    "    when(col('grade') == 'A', 'Excellent')\n",
    "    .when(col('grade') == 'B', 'Good')\n",
    "    .when(col('grade') == 'C', 'Average')\n",
    "    .when(col('grade') == 'D', 'Below Avergae')\n",
    "    .when(col('grade') == 'E', 'Poor')\n",
    "    .when(col('grade') == 'F', 'Fail')\n",
    "    .otherwise('Unknown')\n",
    ")\n",
    "\n",
    "result_df = df_labeled.select(col('grade_label'), col('num_students'))\n",
    "\n",
    "result_df.show()\n",
    "\n"
   ]
  }
 ],
 "metadata": {
  "kernelspec": {
   "display_name": "daproject",
   "language": "python",
   "name": "python3"
  },
  "language_info": {
   "codemirror_mode": {
    "name": "ipython",
    "version": 3
   },
   "file_extension": ".py",
   "mimetype": "text/x-python",
   "name": "python",
   "nbconvert_exporter": "python",
   "pygments_lexer": "ipython3",
   "version": "3.11.9"
  }
 },
 "nbformat": 4,
 "nbformat_minor": 2
}
